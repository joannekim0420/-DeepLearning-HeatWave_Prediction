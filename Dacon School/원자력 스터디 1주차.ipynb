{
 "cells": [
  {
   "cell_type": "markdown",
   "metadata": {
    "toc-hr-collapsed": false
   },
   "source": [
    "# DACON 파이썬 기초"
   ]
  },
  {
   "cell_type": "markdown",
   "metadata": {
    "toc-hr-collapsed": true
   },
   "source": [
    "## I. 아나콘다 & 주피터 "
   ]
  },
  {
   "cell_type": "markdown",
   "metadata": {},
   "source": [
    "### **자주 쓰는 단축키**"
   ]
  },
  {
   "cell_type": "markdown",
   "metadata": {},
   "source": [
    "코드실행\n",
    "- **`Ctrl + Enter`** : 선택한 셀을 실행합니다.\n",
    "- **`Shift + Enter`** : 선택한 셀을 실행하고 다음 셀로 넘어갑니다. 만약 다음 셀이 없을 경우 셀을 생성합니다.\n",
    "- 여러 셀을 선택하고 한꺼번에 구동할 수도 있습니다."
   ]
  },
  {
   "cell_type": "markdown",
   "metadata": {},
   "source": [
    "셀 추가\n",
    "- **`A`** : 새로운 셀을 선택한 셀 위에 추가합니다.\n",
    "- **`B`** : 새로운 셀을 선택한 셀 아래에 추가합니다."
   ]
  },
  {
   "cell_type": "markdown",
   "metadata": {},
   "source": [
    "셀 속성 변경\n",
    "- **`Y`** : 선택한 셀을 Code입력모드로\n",
    "- **`M`** : 선택한 셀을 마크다운(Markdown)입력모드로\n",
    "- 마크다운 문법 참고 링크: https://gist.github.com/ihoneymon/652be052a0727ad59601"
   ]
  },
  {
   "cell_type": "markdown",
   "metadata": {},
   "source": [
    "셀 복사/붙여넣기 & 삭제하기/되돌리기\n",
    "- **`X`** : 선택한 셀을 잘라내기\n",
    "- **`C`** : 선택한 셀을 복사하기\n",
    "- **`V`** : 복사한 셀을 선택한 셀 아래에 붙여넣기\n",
    "- **`D,D`** : 선택한 셀을 삭제하기\n",
    "- **`Z`** : 시행 되돌리기"
   ]
  },
  {
   "cell_type": "markdown",
   "metadata": {},
   "source": [
    "기타\n",
    "- 함수에 커서를 두고 **`Shift + Tab`** : 함수 설명 보기(파라미터 확인할 때 좋습니다)\n",
    "- **`Help`**: 각종 Reference들(Python, Numpy, Matplotlib, Pandas 등등)을 확인할 수 있습니다"
   ]
  },
  {
   "cell_type": "markdown",
   "metadata": {
    "toc-hr-collapsed": true
   },
   "source": [
    "## Ⅱ. 파이썬 기본 문법\n",
    " \n",
    "### 01. 기초 자료형\n",
    "### 02. 사칙연산"
   ]
  },
  {
   "cell_type": "markdown",
   "metadata": {},
   "source": [
    "--------------"
   ]
  },
  {
   "cell_type": "markdown",
   "metadata": {
    "toc-hr-collapsed": true
   },
   "source": [
    "> ### 숫자 자료형\n",
    "+ 정수형\n",
    "Integer\n",
    "+ 실수형\n",
    "Float"
   ]
  },
  {
   "cell_type": "markdown",
   "metadata": {},
   "source": [
    "#### 정수형\n",
    "양수 , 음수 , 0 의 정수형 자료"
   ]
  },
  {
   "cell_type": "code",
   "execution_count": null,
   "metadata": {},
   "outputs": [],
   "source": [
    "type(112)  # 자료형의 타입을 알려주는 type 함수   "
   ]
  },
  {
   "cell_type": "code",
   "execution_count": null,
   "metadata": {},
   "outputs": [],
   "source": [
    "type(119)\n",
    "type(-112)\n",
    "type(0)"
   ]
  },
  {
   "cell_type": "code",
   "execution_count": null,
   "metadata": {},
   "outputs": [],
   "source": [
    "# 결과값을 출력해주는 print 함수를 통해 양수 음수 0 의 자료 Type 을 알아 봅시다 \n",
    "\n",
    "print( type(119) )\n",
    "\n",
    "print( type(-112) )\n",
    "\n",
    "print( type(0) ) "
   ]
  },
  {
   "cell_type": "markdown",
   "metadata": {},
   "source": [
    "#### 실수형\n",
    "소수점이 포함되는 숫자 "
   ]
  },
  {
   "cell_type": "code",
   "execution_count": null,
   "metadata": {},
   "outputs": [],
   "source": [
    "print( type (1.19) )\n",
    "\n",
    "print( type( -0.12) )\n",
    "\n",
    "print( type(-0.0) )"
   ]
  },
  {
   "cell_type": "markdown",
   "metadata": {},
   "source": [
    "### 숫자형 자료 사칙연산"
   ]
  },
  {
   "cell_type": "markdown",
   "metadata": {},
   "source": [
    "+ 더하기 빼기"
   ]
  },
  {
   "cell_type": "code",
   "execution_count": null,
   "metadata": {},
   "outputs": [],
   "source": [
    "a = 11 #변수 할당 시, 예약어 사용하지 않기 \n",
    "print(a)"
   ]
  },
  {
   "cell_type": "code",
   "execution_count": null,
   "metadata": {},
   "outputs": [],
   "source": [
    "b"
   ]
  },
  {
   "cell_type": "code",
   "execution_count": null,
   "metadata": {},
   "outputs": [],
   "source": [
    "a = 11 # a 변수에 11 저장 \n",
    "b = 5  # b 변수에 5 저장 \n",
    "\n",
    "# a + b 출력하기\n",
    "print(a + b)\n",
    "\n",
    "# a + b의 type 출력하기 \n",
    "print(type(a+b))"
   ]
  },
  {
   "cell_type": "code",
   "execution_count": null,
   "metadata": {},
   "outputs": [],
   "source": [
    "c = 6.0\n",
    "\n",
    "# a - c 출력하기 \n",
    "print(a - c)\n",
    "\n",
    "# a - c의 type 출력하기\n",
    "# float , int 형을 이용하여 사칙연산 시행시 float 으로 변환\n",
    "print(type(a-c))"
   ]
  },
  {
   "cell_type": "markdown",
   "metadata": {},
   "source": [
    "+ 곱하기 나누기 제곱"
   ]
  },
  {
   "cell_type": "code",
   "execution_count": null,
   "metadata": {},
   "outputs": [],
   "source": [
    "a = 10\n",
    "b = 3\n",
    "\n",
    "#곱하기\n",
    "print(a * b)\n",
    "\n",
    "#나누기\n",
    "print(a / b)\n",
    "\n",
    "# 제곱\n",
    "print(a ** b)\n"
   ]
  },
  {
   "cell_type": "markdown",
   "metadata": {},
   "source": [
    "+ 몫과 나머지"
   ]
  },
  {
   "cell_type": "code",
   "execution_count": null,
   "metadata": {
    "scrolled": true
   },
   "outputs": [],
   "source": [
    "a = 10\n",
    "b = 3\n",
    "\n",
    "# 몫만 구하기\n",
    "print(a // b)\n",
    "\n",
    "# 나머지 반환\n",
    "print(a % b)"
   ]
  },
  {
   "cell_type": "markdown",
   "metadata": {},
   "source": [
    "------------------------"
   ]
  },
  {
   "cell_type": "markdown",
   "metadata": {},
   "source": [
    "> ### 문자열 자료형\n",
    "+ String : 단어, 문자들로 구성된 집합\n",
    "\n",
    "'Hello'\n",
    "'안녕!' \n",
    "\"Let's start Python !\" \n",
    "\n",
    "문자열 자료형의 경우 위와 같이 '     '  혹은  \"     \"  로 둘러싸주시면 됩니다"
   ]
  },
  {
   "cell_type": "code",
   "execution_count": null,
   "metadata": {},
   "outputs": [],
   "source": [
    "Hello"
   ]
  },
  {
   "cell_type": "code",
   "execution_count": null,
   "metadata": {},
   "outputs": [],
   "source": [
    "'Hello'"
   ]
  },
  {
   "cell_type": "code",
   "execution_count": null,
   "metadata": {},
   "outputs": [],
   "source": [
    "'안녕하세요'"
   ]
  },
  {
   "cell_type": "code",
   "execution_count": null,
   "metadata": {},
   "outputs": [],
   "source": [
    "type('Hello')"
   ]
  },
  {
   "cell_type": "code",
   "execution_count": null,
   "metadata": {},
   "outputs": [],
   "source": [
    "type('안녕!')"
   ]
  },
  {
   "cell_type": "code",
   "execution_count": null,
   "metadata": {
    "scrolled": true
   },
   "outputs": [],
   "source": [
    "\"Let's start Python!\"   # 문자열 안에 ' 을 포함시키고 싶을때는 큰따옴표 \" \" 로 둘러싸주시면 됩니다"
   ]
  },
  {
   "cell_type": "code",
   "execution_count": null,
   "metadata": {},
   "outputs": [],
   "source": [
    "'Let\\'s start Python!'  # 백슬래시 | 를 이용하여 문자임을 표시해주는 방법도 있습니다   #선택은 자유!"
   ]
  },
  {
   "cell_type": "markdown",
   "metadata": {},
   "source": [
    "***  \n",
    "자주 사용 되는 **`이스케이프 코드`** 알아보기\n",
    "\n",
    "    \\n\t:  문자열 안에서 줄을 바꿀 때 사용  \n",
    "    \\t\t:  문자열 사이에 탭 간격을 줄 때 사용  \n",
    "    \\\\\t:  문자 \\를 그대로 표현할 때 사용  \n",
    "    \\'\t:  작은따옴표(')를 그대로 표현할 때 사용  \n",
    "    \\\"\t:  큰따옴표(\")를 그대로 표현할 때 사용  \n",
    "***"
   ]
  },
  {
   "cell_type": "code",
   "execution_count": null,
   "metadata": {},
   "outputs": [],
   "source": [
    "print('Hello \\n \\t \\'World\\' \\n')"
   ]
  },
  {
   "cell_type": "markdown",
   "metadata": {},
   "source": [
    "### 문자열의 사칙 연산  \n",
    "파이썬은 특별하게 문자열을 더하고 곱할 수 있습니다"
   ]
  },
  {
   "cell_type": "code",
   "execution_count": null,
   "metadata": {},
   "outputs": [],
   "source": [
    "a = '데이콘'\n",
    "b = '스쿨' \n",
    "# a + b 출력하기\n",
    "print(a + ' ' + b)"
   ]
  },
  {
   "cell_type": "code",
   "execution_count": null,
   "metadata": {},
   "outputs": [],
   "source": [
    "c = '영차 '\n",
    "\n",
    "print(c*2)\n",
    "print(c*10)"
   ]
  },
  {
   "cell_type": "markdown",
   "metadata": {},
   "source": [
    "### 문자열 심화  \n",
    "+ 문자열 길이 구하기\n",
    "+ 인덱싱\n",
    "+ 슬라이싱  "
   ]
  },
  {
   "cell_type": "code",
   "execution_count": null,
   "metadata": {},
   "outputs": [],
   "source": [
    "## 문자열 길이 구하기\n",
    "string_ = '데이콘 스쿨 2020'\n",
    "\n",
    "len(string_) # 파이썬 내장함수인 len 은 띄어쓰기를 포함한 문자열의 길이를 반환해 줍니다"
   ]
  },
  {
   "cell_type": "code",
   "execution_count": null,
   "metadata": {},
   "outputs": [],
   "source": [
    "## 문자열 인덱싱 : 원하는 특정 문자만 뽑아내기\n",
    "string_[0]  # 첫번째 문자만 출력"
   ]
  },
  {
   "cell_type": "code",
   "execution_count": null,
   "metadata": {},
   "outputs": [],
   "source": [
    "string_[-1]   # 마지막 문자 출력"
   ]
  },
  {
   "cell_type": "code",
   "execution_count": null,
   "metadata": {},
   "outputs": [],
   "source": [
    "string_[-4:]"
   ]
  },
  {
   "cell_type": "code",
   "execution_count": null,
   "metadata": {},
   "outputs": [],
   "source": [
    "## 문자열 슬라이싱  \n",
    "string_[0:2]  #범위의 마지막 문자는 포함되지 않습니다"
   ]
  },
  {
   "cell_type": "code",
   "execution_count": null,
   "metadata": {},
   "outputs": [],
   "source": [
    "string_[6:]  # 6번째 문자 부터 끝까지 출력"
   ]
  },
  {
   "cell_type": "code",
   "execution_count": null,
   "metadata": {},
   "outputs": [],
   "source": [
    "string_[ :6] # 처음부터 5번째까지 출력"
   ]
  },
  {
   "cell_type": "markdown",
   "metadata": {},
   "source": [
    "> Quiz : '스쿨' 만 출력하고 싶다면 어떻게 해야 할까요?"
   ]
  },
  {
   "cell_type": "code",
   "execution_count": null,
   "metadata": {},
   "outputs": [],
   "source": [
    "string_"
   ]
  },
  {
   "cell_type": "code",
   "execution_count": null,
   "metadata": {},
   "outputs": [],
   "source": [
    "# 문제를 풀어보세요\n"
   ]
  },
  {
   "cell_type": "markdown",
   "metadata": {},
   "source": [
    "'-' 를 사용하면 뒤에서부터 순서를 셀 수 있습니다\n",
    "\n",
    "'-'를 활용하여 스쿨만 출력해봅시다"
   ]
  },
  {
   "cell_type": "code",
   "execution_count": null,
   "metadata": {},
   "outputs": [],
   "source": [
    "string_[-4:]    # 뒤에서 4번째 숫자부터 끝까지 출력하기 "
   ]
  },
  {
   "cell_type": "markdown",
   "metadata": {},
   "source": [
    "  \n",
    "  \n",
    "  \n",
    "  \n",
    "  ----------------\n",
    "    "
   ]
  },
  {
   "cell_type": "markdown",
   "metadata": {},
   "source": [
    "> ### 리스트 자료형  \n",
    "숫자형 자료와 문자열 자료 등을 하나의 집합으로 모을 수 있는 리스트 입니다."
   ]
  },
  {
   "cell_type": "code",
   "execution_count": null,
   "metadata": {},
   "outputs": [],
   "source": [
    "# 여러 가지 구조의 리스트 \n",
    "\n",
    "a = []  # 비어있는 리스트\n",
    "\n",
    "b = [0, 1, 2]   # 숫자형 자료가 들어있는 리스트\n",
    "\n",
    "c = ['Data', 'Science', 'too', 'easy']   # 문자열 자료\n",
    "\n",
    "d = [0, 1, 'Data', 'science'] # 숫자 + 문자열\n",
    "\n",
    "e = [2, 0, ['too', 'easy']]  # 숫자 + 문자열 리스트 - 리스트가 포함된 중첩 리스트 구조\n"
   ]
  },
  {
   "cell_type": "code",
   "execution_count": null,
   "metadata": {},
   "outputs": [],
   "source": [
    "print( type(a) ,'\\n')\n",
    "\n",
    "print(a ,'\\n')\n",
    "print(b ,'\\n')\n",
    "print(c ,'\\n')\n",
    "print(d ,'\\n')\n",
    "print(e ,'\\n')"
   ]
  },
  {
   "cell_type": "markdown",
   "metadata": {},
   "source": [
    "### 리스트 자료  심화\n",
    "+ 리스트 길이 구하기\n",
    "+ 인덱싱\n",
    "+ 슬라이싱 \n",
    "+ 리스트 관련 함수"
   ]
  },
  {
   "cell_type": "code",
   "execution_count": 1,
   "metadata": {},
   "outputs": [],
   "source": [
    "list_ = ['데이콘', '스쿨', 101, '2020'] # 파이썬에서는 이미 list 라는 함수가 있기 때문에 "
   ]
  },
  {
   "cell_type": "code",
   "execution_count": null,
   "metadata": {},
   "outputs": [],
   "source": [
    "## 리스트 길이 구하기\n",
    "len(list_) "
   ]
  },
  {
   "cell_type": "code",
   "execution_count": null,
   "metadata": {},
   "outputs": [],
   "source": [
    "## 리스트 인덱싱과 슬라이싱\n",
    "\n",
    "print(list_[1], '\\n')\n",
    "print(list_[1:3], '\\n')\n",
    "\n",
    "### 리스트에서 인덱싱과 슬라이싱을 했을때의 자료 Type! \n",
    "print(type(list_[1]) ,'\\n')\n",
    "print( type(list_[1:3]))"
   ]
  },
  {
   "cell_type": "markdown",
   "metadata": {},
   "source": [
    "### 리스트 연산"
   ]
  },
  {
   "cell_type": "code",
   "execution_count": null,
   "metadata": {},
   "outputs": [],
   "source": [
    "a = [1, 2, 3]\n",
    "b = [4, 5, 6]\n",
    "\n",
    "print(a+b)"
   ]
  },
  {
   "cell_type": "code",
   "execution_count": null,
   "metadata": {},
   "outputs": [],
   "source": [
    "a = [1, 2, 3]\n",
    "b = ['Hello', 'World']\n",
    "\n",
    "print(a*2)\n",
    "print(a+b)"
   ]
  },
  {
   "cell_type": "markdown",
   "metadata": {},
   "source": [
    "- 주의 할 점\n",
    " - 아래와 같이 서로 다른 Type 의 자료형을 더해줄 경우에는 Error 가 뜹니다 \n",
    " - 같은 자료 구조 끼리만 연산 가능   ex) 숫자&숫자 , 문자&문자, 리스트&리스트"
   ]
  },
  {
   "cell_type": "code",
   "execution_count": null,
   "metadata": {},
   "outputs": [],
   "source": [
    "print( a[0] + b[1])"
   ]
  },
  {
   "cell_type": "markdown",
   "metadata": {},
   "source": [
    "### 리스트가 사용 가능한 함수"
   ]
  },
  {
   "cell_type": "code",
   "execution_count": null,
   "metadata": {},
   "outputs": [],
   "source": [
    "list_ = [2, 1, 3, 4]"
   ]
  },
  {
   "cell_type": "code",
   "execution_count": null,
   "metadata": {},
   "outputs": [],
   "source": [
    "list_"
   ]
  },
  {
   "cell_type": "code",
   "execution_count": null,
   "metadata": {
    "scrolled": true
   },
   "outputs": [],
   "source": [
    "## 리스트에 요소 추가하기 : append\n",
    "\n",
    "list_.append(5)\n",
    "\n",
    "print(list_)"
   ]
  },
  {
   "cell_type": "code",
   "execution_count": null,
   "metadata": {},
   "outputs": [],
   "source": [
    "## 원하는 위치에 요소 삽입하기 : insert\n",
    "\n",
    "list_.insert(1, 'and')\n",
    "\n",
    "print(list_)"
   ]
  },
  {
   "cell_type": "code",
   "execution_count": null,
   "metadata": {},
   "outputs": [],
   "source": [
    "## 리스트 요소 제거 : remove\n",
    "# remove(*)는 리스트에서 첫 번째로 나오는 *을 삭제하는 함수입니다\n",
    "\n",
    "list_.remove('and')\n",
    "print(list_)"
   ]
  },
  {
   "cell_type": "code",
   "execution_count": null,
   "metadata": {},
   "outputs": [],
   "source": [
    "list_"
   ]
  },
  {
   "cell_type": "code",
   "execution_count": null,
   "metadata": {},
   "outputs": [],
   "source": [
    "## 리스트 정렬 : sort\n",
    "\n",
    "list_.sort()\n",
    "\n",
    "print(list_)"
   ]
  },
  {
   "cell_type": "code",
   "execution_count": null,
   "metadata": {
    "scrolled": true
   },
   "outputs": [],
   "source": [
    "## 역순으로 정렬도 할 수 있습니다 \n",
    "### sort 뒤를 클릭 후 shift + tab 을 눌러 보시면  'sort'함수의 value 들을 확인 할 수 있습니다\n",
    "list_.sort(reverse= True)  # 역순을 True 로 설정하면!\n",
    "\n",
    "print(list_) #  거꾸로 배열이 됨을 확인 할 수 있습니다"
   ]
  },
  {
   "cell_type": "markdown",
   "metadata": {},
   "source": [
    "sort는 inplace 특성을 지니고 있습니다. \n",
    "\n",
    "기존에 있던 값을 바꾸고 싶지 않다면, sorted()를 사용하면 됩니다. "
   ]
  },
  {
   "cell_type": "code",
   "execution_count": null,
   "metadata": {},
   "outputs": [],
   "source": [
    "print('원래 값: ', list_)\n",
    "print('함수 실행 시 값: ', list_.sort())\n",
    "print('함수 실행 후 값: ', list_)"
   ]
  },
  {
   "cell_type": "code",
   "execution_count": null,
   "metadata": {},
   "outputs": [],
   "source": [
    "print('원래 값: ', list_)\n",
    "print('함수 실행 시 값: ', sorted(list_, reverse = True))\n",
    "print('함수 실행 후 값: ', list_)"
   ]
  },
  {
   "cell_type": "markdown",
   "metadata": {},
   "source": [
    "----------------\n",
    "  \n",
    " "
   ]
  },
  {
   "cell_type": "markdown",
   "metadata": {},
   "source": [
    "> ### 튜플 자료형\n",
    "리스트와 거의 유사하지만  \n",
    "차이점은 값을 **수정 및 삭제** 가 불가하다는 점이 다릅니다\n",
    "부가 기능이 없기 때문에, 튜플 속에 더 많은 데이터를 저장할 수 있는 장점이 있습니다  \n",
    "**데이터 분석**을 할 때에는 보편적으로 쓰이지 않습니다. "
   ]
  },
  {
   "cell_type": "code",
   "execution_count": null,
   "metadata": {},
   "outputs": [],
   "source": [
    "tuple_ = (1,2,3,4)"
   ]
  },
  {
   "cell_type": "code",
   "execution_count": null,
   "metadata": {
    "scrolled": true
   },
   "outputs": [],
   "source": [
    "tuple_.append(5)  # 5 를 추가하려하자 Error 가 발생!"
   ]
  },
  {
   "cell_type": "markdown",
   "metadata": {},
   "source": [
    "----------------------"
   ]
  },
  {
   "cell_type": "markdown",
   "metadata": {},
   "source": [
    "> ### 딕셔너리 자료형  \n",
    "  \n",
    "     이름: 송해  \n",
    "     출생년도 : 1927\n",
    "     방송 : 전국노래자랑  \n",
    "\n",
    "위 와 같이 대응 되는 구조를 갖는 자료를 딕셔너리 자료형이라고 합니다  \n",
    "\n",
    "Key 를 통해 Value를 얻는 구조 입니다.  \n",
    "\n",
    "*{Key1:Value1,  Key2:Value2,  Key3:Value3,  ...}*  \n"
   ]
  },
  {
   "cell_type": "code",
   "execution_count": null,
   "metadata": {},
   "outputs": [],
   "source": [
    "dic =  { '이름':'IU' , 'age':27 ,'인기곡':['좋은날','마쉬멜로우','금요일에 만나요',23] }\n",
    "\n",
    "print(type(dic))"
   ]
  },
  {
   "cell_type": "markdown",
   "metadata": {},
   "source": [
    "딕셔너리에서 Key 를 사용하여 Value 얻기\n",
    "\n",
    "    아이유의 인기곡을 불러옵시다 \n",
    "    \n",
    "    Dict['Key'] 와 같이 대괄호를 이용하여 불러옵니다 "
   ]
  },
  {
   "cell_type": "code",
   "execution_count": null,
   "metadata": {},
   "outputs": [],
   "source": [
    "dic['이름']"
   ]
  },
  {
   "cell_type": "markdown",
   "metadata": {},
   "source": [
    "딕셔너리의 Key   or   Value 만 얻기  \n",
    "    \n",
    "    keys() 함수와 values() 함수를 이용합니다  "
   ]
  },
  {
   "cell_type": "code",
   "execution_count": null,
   "metadata": {
    "scrolled": true
   },
   "outputs": [],
   "source": [
    "print(dic.keys())\n",
    "\n",
    "print(dic.values())"
   ]
  },
  {
   "cell_type": "markdown",
   "metadata": {},
   "source": [
    "----------------\n",
    "----------------\n",
    "### 03. 함수 만들기"
   ]
  },
  {
   "cell_type": "markdown",
   "metadata": {},
   "source": [
    "함수는 들어온 입력값을 받아 어떤 처리를 하여 적절한 결괏값을 돌려줍니다.\n",
    "\n",
    "입력값 ---> 함수 ----> 결괏값"
   ]
  },
  {
   "cell_type": "markdown",
   "metadata": {},
   "source": [
    "두 변수를 받아 합을 반환하는 함수를 만들어 볼까요?\n",
    "\n",
    "    a + b = ?"
   ]
  },
  {
   "cell_type": "code",
   "execution_count": null,
   "metadata": {},
   "outputs": [],
   "source": [
    "def add(a,b):\n",
    "    return a + b\n",
    "\n",
    "##   a 와 b 를 입력 받아 a+b를 출력하는  add 함수를 만들어 보았습니다!\n",
    "##  파이썬에서 함수를 만들때에는 들여쓰기를 해주어야 한다는 점 알아주세요!\n"
   ]
  },
  {
   "cell_type": "code",
   "execution_count": null,
   "metadata": {
    "scrolled": true
   },
   "outputs": [],
   "source": [
    "c = add(5,7)\n",
    "\n",
    "print(c)"
   ]
  },
  {
   "cell_type": "markdown",
   "metadata": {},
   "source": [
    "입력 값이 없는 함수도 있습니다."
   ]
  },
  {
   "cell_type": "code",
   "execution_count": null,
   "metadata": {},
   "outputs": [],
   "source": [
    "def shout():\n",
    "    print('야호 '*10)"
   ]
  },
  {
   "cell_type": "code",
   "execution_count": null,
   "metadata": {},
   "outputs": [],
   "source": [
    "shout()"
   ]
  },
  {
   "cell_type": "markdown",
   "metadata": {
    "toc-hr-collapsed": true
   },
   "source": [
    "## Ⅲ. 제어문 반복문\n",
    " \n",
    "### 01. IF\n",
    "### 02. For \n",
    "### 03. While"
   ]
  },
  {
   "cell_type": "markdown",
   "metadata": {},
   "source": [
    "-------------------\n",
    "> ### IF 문 \n",
    "\n",
    "if  조건문 :  \n",
    "&nbsp;&nbsp;&nbsp;&nbsp;수행할 문장  \n",
    "&nbsp;&nbsp;&nbsp;&nbsp;수행할 문장  \n",
    "&nbsp;&nbsp;&nbsp;&nbsp;수행할 문장  \n",
    "    \n",
    "~ 할때 ~ 해라 조건을 만들어주는 If 조건문\n",
    "\n",
    "조건문은 비교 연산자 등을 이용하여 원하는 조건을 만들어 줍니다"
   ]
  },
  {
   "cell_type": "markdown",
   "metadata": {},
   "source": [
    "> *비교 연산자*"
   ]
  },
  {
   "cell_type": "markdown",
   "metadata": {},
   "source": [
    "![비교연산자](https:/t1.daumcdn.net/cfile/tistory/2357563D56A8F49C1E)"
   ]
  },
  {
   "cell_type": "code",
   "execution_count": null,
   "metadata": {},
   "outputs": [],
   "source": [
    "2 != 3"
   ]
  },
  {
   "cell_type": "markdown",
   "metadata": {},
   "source": [
    "--------------\n",
    "`겨울이라면 현금을 가지고 다녀라` 를 IF 문으로 바꾸어 볼까요? "
   ]
  },
  {
   "cell_type": "code",
   "execution_count": null,
   "metadata": {},
   "outputs": [],
   "source": [
    "## 기본적인 if / else 구조 \n",
    "season = '여름'\n",
    "\n",
    "\n",
    "if season == '겨울':\n",
    "    print('현금을 가지고 다녀라')\n",
    "else:\n",
    "    print('현금 소지는 자유다 ')"
   ]
  },
  {
   "cell_type": "markdown",
   "metadata": {},
   "source": [
    "*IF 조건문 뒤에는 : (콜론) 을 붙이며  수행할 문장 들에 대해서는 들여쓰기를 해야 한다는 점 주의해 주세요!*\n",
    " "
   ]
  },
  {
   "cell_type": "code",
   "execution_count": null,
   "metadata": {},
   "outputs": [],
   "source": [
    "a = 10\n",
    "\n",
    "if a > 5 :\n",
    "    b = a * 2\n",
    "    print(b)"
   ]
  },
  {
   "cell_type": "markdown",
   "metadata": {},
   "source": [
    "    아래와 같은 다수의 조건문도 가능합니다."
   ]
  },
  {
   "cell_type": "code",
   "execution_count": null,
   "metadata": {},
   "outputs": [],
   "source": [
    "season = '겨울'\n",
    "cash = 1200\n",
    "\n",
    "\n",
    "if season == '겨울':\n",
    "    if cash >= 1000:\n",
    "        print('붕어빵을 사먹을 수 있다')\n",
    "    else:\n",
    "        print('붕어빵에 실패했다')\n",
    "else:\n",
    "    print('현금 소지는 자유다')"
   ]
  },
  {
   "cell_type": "markdown",
   "metadata": {},
   "source": [
    " "
   ]
  },
  {
   "cell_type": "markdown",
   "metadata": {},
   "source": [
    " **IF + ELIF 조건문**   "
   ]
  },
  {
   "cell_type": "markdown",
   "metadata": {},
   "source": [
    "```\n",
    "if 조건식:\n",
    "    코드1\n",
    "elif 조건식:\n",
    "    코드2\n",
    "else:\n",
    "    코드3\n",
    "```"
   ]
  },
  {
   "cell_type": "markdown",
   "metadata": {},
   "source": [
    "IF & ELIF & ELSE  를 이용한 자판기 코드를 만들어 봅시다 "
   ]
  },
  {
   "cell_type": "code",
   "execution_count": null,
   "metadata": {},
   "outputs": [],
   "source": [
    "button = 3\n",
    " \n",
    "if button == 1:\n",
    "    print('레츠비')\n",
    "elif button == 2:\n",
    "    print('웰치스')\n",
    "elif button == 3:\n",
    "    print('코카콜라')\n",
    "else:\n",
    "    print('제공하지 않는 메뉴')"
   ]
  },
  {
   "cell_type": "markdown",
   "metadata": {},
   "source": [
    " "
   ]
  },
  {
   "cell_type": "markdown",
   "metadata": {},
   "source": [
    "***파이썬의 다양한 조건문***  \n",
    "파이썬은  `in` 과 `not in` 등의 조건문도 사용가능합니다"
   ]
  },
  {
   "cell_type": "code",
   "execution_count": null,
   "metadata": {},
   "outputs": [],
   "source": [
    "10 in [1,2,3]"
   ]
  },
  {
   "cell_type": "code",
   "execution_count": null,
   "metadata": {},
   "outputs": [],
   "source": [
    "10 not in [1,2,3,4]"
   ]
  },
  {
   "cell_type": "code",
   "execution_count": null,
   "metadata": {},
   "outputs": [],
   "source": [
    "'데이콘' in '데이콘 스쿨 2020'"
   ]
  },
  {
   "cell_type": "code",
   "execution_count": null,
   "metadata": {
    "scrolled": true
   },
   "outputs": [],
   "source": [
    "'서울' in '데이콘 스쿨 2020'"
   ]
  },
  {
   "cell_type": "markdown",
   "metadata": {},
   "source": [
    " "
   ]
  },
  {
   "cell_type": "markdown",
   "metadata": {},
   "source": [
    "> ### 반복문 : For & While "
   ]
  },
  {
   "cell_type": "markdown",
   "metadata": {},
   "source": [
    "for문의 기본 구조:  \n",
    "  \n",
    ">for 변수 in 리스트 (또는 튜플, 문자열):  \n",
    ">>    수행할 문장1  \n",
    "      수행할 문장2  \n",
    "    ...  \n",
    "    "
   ]
  },
  {
   "cell_type": "code",
   "execution_count": null,
   "metadata": {
    "scrolled": true
   },
   "outputs": [],
   "source": [
    "# 가장 기본적인 for 문 구조\n",
    "## 1 부터 10 까지의 숫자를 더하여 봅시다\n",
    "\n",
    "sum1 = 0\n",
    "for i in [1,2,3,4,5,6,7,8,9,10]:\n",
    "    sum1 += i\n",
    "print(sum1)\n",
    "\n",
    "\n",
    "\n",
    "\n",
    "sum2 = 0\n",
    "for i in range(1,11):\n",
    "    sum2 += i\n",
    "print(sum2)\n",
    "\n",
    "# range(1,11) 은 1 이상 11미만의 정수\n",
    "# range(1,10,2) 은  1 부터 2씩 증가하며 10 미만까지의 정수 "
   ]
  },
  {
   "cell_type": "code",
   "execution_count": null,
   "metadata": {},
   "outputs": [],
   "source": [
    "for i in range(1, 10, 2) :\n",
    "    print(i)"
   ]
  },
  {
   "cell_type": "markdown",
   "metadata": {},
   "source": [
    "리스트를 이용한 For 문"
   ]
  },
  {
   "cell_type": "code",
   "execution_count": null,
   "metadata": {},
   "outputs": [],
   "source": [
    "for i in ['햄버거','피자', '떡볶이']:\n",
    "    print('나는 ', i, '가 먹고 싶다', sep = \"\")"
   ]
  },
  {
   "cell_type": "markdown",
   "metadata": {},
   "source": [
    "> ### WHILE 반복문\n",
    "While 반복문의 기본 구조:\n",
    "\n",
    ">while 조건문:  \n",
    ">>    수행할 문장1  \n",
    "      수행할 문장2  \n",
    "    ...  \n",
    "    \n",
    "For 문 과 굉장히 유사한것을 알 수 있죠?"
   ]
  },
  {
   "cell_type": "code",
   "execution_count": null,
   "metadata": {
    "scrolled": true
   },
   "outputs": [],
   "source": [
    "## 가장 기본적인 Whiie 반복문 구조\n",
    "\n",
    "i = 0\n",
    "while i <= 5:\n",
    "    print('붕어빵',i,'마리')\n",
    "    i += 1"
   ]
  },
  {
   "cell_type": "markdown",
   "metadata": {},
   "source": [
    "`i = 0` 일때 부터 시작하여 `i` 가 1씩 증가되고 있는 것을 볼 수 있죠?  \n",
    "마지막 반복에서 `i=5`일떄  `i`에 1이 더해져 6이 되어 ` i <= 5`라는 \n",
    "\n",
    "조건문에 부합하지 않아   \n",
    "반복문에 멈춘것을 확인 할 수 있습니다. "
   ]
  },
  {
   "cell_type": "markdown",
   "metadata": {},
   "source": [
    "#### 강제로 while 문 빠져나가기  \n",
    "콜라가 다 떨어 질때까지 공짜로 콜라를 주는 자판기를 코드로 만들어 봅시다.   \n",
    "`while True:`를 통해 무한 루프를 만들어 준 후,  \n",
    "콜라의 개수가 0이 되면  break 를 통해  \n",
    "While 반복문을 빠져나가 도록 만들어 보겠습니다."
   ]
  },
  {
   "cell_type": "code",
   "execution_count": null,
   "metadata": {
    "scrolled": true
   },
   "outputs": [],
   "source": [
    "coke = 5\n",
    "\n",
    "while True:\n",
    "    print('콜라를 줍니다')\n",
    "    coke -= 1\n",
    "    \n",
    "    if coke == 0:\n",
    "        print('콜라가 다 떨어졌습니다.')\n",
    "        break"
   ]
  },
  {
   "cell_type": "markdown",
   "metadata": {},
   "source": [
    "만약 break 를 사용하지 않았다면 무한루프 속에 갖혔겠죠?  \n",
    "위 와 같이 무한루프가 생기지 않도록 break 을 잘 사용해 주어야 합니다."
   ]
  },
  {
   "cell_type": "markdown",
   "metadata": {},
   "source": [
    "_________________"
   ]
  },
  {
   "cell_type": "markdown",
   "metadata": {
    "toc-hr-collapsed": true
   },
   "source": [
    "+ 모듈과 라이브러리\n",
    "+ 데이터 불러오기\n",
    "+ 판다스 기초\n"
   ]
  },
  {
   "cell_type": "markdown",
   "metadata": {},
   "source": [
    "## IV. 모듈과 라이브러리 \n",
    "+ 모듈 == 라이브러리 !\n",
    "\n",
    "모듈이란 함수와 그 외의 것들을 모아 놓은 파이썬 파일입니다.  \n",
    "  \n",
    "만일 개발자가 되어 여러명이서 큰 프로그램을 만드는데  \n",
    "각각 모두가 매번 필요한 함수, 변수를 만들어야 한다고 생각하면 매우 비효율적이라고 생각 들지 않나요?   \n",
    "이런 경우 모듈은 빛을 발합니다.  \n",
    "누군가 만들어놓은 모듈을 이용해 효율적으로 일을 처리할 수 있는 것이죠!  "
   ]
  },
  {
   "cell_type": "markdown",
   "metadata": {},
   "source": [
    "*아래의 예시를 보며 모듈 사용법을 익혀 봅시다*  "
   ]
  },
  {
   "cell_type": "code",
   "execution_count": null,
   "metadata": {},
   "outputs": [],
   "source": [
    "import random  #random 이라는 모듈을 불러오겠다.\n",
    "\n",
    "a = random.random()  # random 모듈에서 random() 함수를 불러와 사용하겠다 \n",
    "\n",
    "b = random.randrange(1, 10) # random 모듈에서 randrange() 함수를 불러와 사용하겠다 \n",
    "                            # 이때 함수 에 대한 설명은 `shift`+`tab`을 눌러 볼 수 있습니다. \n",
    "\n",
    "c = ['a', 'b', 'c', 'd']    # 문자 리스트에 저장 \n",
    "\n",
    "d = random.choice(c)        #리스트중 랜덤 택 1"
   ]
  },
  {
   "cell_type": "code",
   "execution_count": null,
   "metadata": {},
   "outputs": [],
   "source": [
    "a"
   ]
  },
  {
   "cell_type": "code",
   "execution_count": null,
   "metadata": {},
   "outputs": [],
   "source": [
    "b"
   ]
  },
  {
   "cell_type": "code",
   "execution_count": null,
   "metadata": {},
   "outputs": [],
   "source": [
    "c"
   ]
  },
  {
   "cell_type": "code",
   "execution_count": null,
   "metadata": {},
   "outputs": [],
   "source": [
    "d"
   ]
  },
  {
   "cell_type": "markdown",
   "metadata": {},
   "source": [
    "앞으로 배울 판다스와 머신러닝 분석도 이러한 모듈을 사용하여 데이터 분석을 시작 해볼 예정입니다."
   ]
  },
  {
   "cell_type": "markdown",
   "metadata": {
    "toc-hr-collapsed": true
   },
   "source": [
    "## V. 판다스 기초  \n",
    "    판다스 라이브러리는 데이터를 수집하고 정리하는데 최적화된 도구 입니다.  \n",
    "    \n",
    "### 데이터 불러오기\n",
    "#### 1. 외부 파일 읽어오기 \n",
    "+ 1-1 csv 파일 \n",
    "데이터 값을 쉼표로 구분하고 있는 csv 파일 입니다.  \n",
    "저희는 pandas 를 이용하여 이 csv 파일을 읽어 올 겁니다."
   ]
  },
  {
   "cell_type": "code",
   "execution_count": null,
   "metadata": {},
   "outputs": [],
   "source": [
    "import pandas as pd   # pandas 를 불러오고 이를 매번 치기 힘드니 pd 로 축약 하여 사용하겠다\n",
    "\n",
    "df_sample = pd.read_csv('df_sample.csv') #df_sample 변수에  판다스에 있는 read_csv 함수를 통해 실습 파일을 불러옵시다.  "
   ]
  },
  {
   "cell_type": "code",
   "execution_count": null,
   "metadata": {},
   "outputs": [],
   "source": [
    "df_sample"
   ]
  },
  {
   "cell_type": "markdown",
   "metadata": {},
   "source": [
    "### 판다스 자료구조 알아보기  \n",
    "+ 시리즈\n",
    "\n",
    "+ 데이터 프레임 \n"
   ]
  },
  {
   "cell_type": "markdown",
   "metadata": {},
   "source": [
    "#### `시리즈`  \n",
    "시리즈는 데이터가 순차적으로 나열된 1 차원 배열의 형태를 갖습니다.  \n",
    "![시리즈](https://t1.daumcdn.net/cfile/tistory/995809335BFBCC922B)"
   ]
  },
  {
   "cell_type": "markdown",
   "metadata": {},
   "source": [
    "\n",
    " **시리즈 만들기**  \n",
    "    딕셔너리와 시리즈의 구조가 비슷하여 딕셔너리를 시리즈로 변환하는 방법을 주로 사용합니다.  "
   ]
  },
  {
   "cell_type": "code",
   "execution_count": null,
   "metadata": {},
   "outputs": [],
   "source": [
    "score = {'english':80, 'math':100, 'science':95} # 위와 같이 딕셔너리를 만들어준 후 \n",
    "score"
   ]
  },
  {
   "cell_type": "code",
   "execution_count": null,
   "metadata": {},
   "outputs": [],
   "source": [
    "type(score)"
   ]
  },
  {
   "cell_type": "code",
   "execution_count": null,
   "metadata": {},
   "outputs": [],
   "source": [
    "score_sr = pd.Series(score)  # 판다스에 있는 series 함수를 이용하여 딕셔너리를 시리즈 구조로 변환하여 새로운 변수에 저장!\n",
    "score_sr"
   ]
  },
  {
   "cell_type": "code",
   "execution_count": null,
   "metadata": {},
   "outputs": [],
   "source": [
    "# index 확인하기\n",
    "score_sr.index"
   ]
  },
  {
   "cell_type": "code",
   "execution_count": null,
   "metadata": {},
   "outputs": [],
   "source": [
    "# 데이터 값만 확인하기 values\n",
    "score_sr.values"
   ]
  },
  {
   "cell_type": "markdown",
   "metadata": {},
   "source": [
    "#### `데이터 프레임`  \n",
    "데이터프레임은 2차원 배열 입니다.  \n",
    "\\\n",
    "행과 열로 만들어지는 2차원 배열 구조를 보면 엑셀과 다른 데이터베이스 구조와 굉장히 유사합니다.  \n",
    "앞에서 보았던 시리즈를 열 벡터라고 한다면 , 데이터 프레임은 여러게의 렬로 이루어진 2차원 벡터 혹은 행렬입니다.\n",
    "![데이터프레임](https://img1.daumcdn.net/thumb/R1280x0/?scode=mtistory2&fname=http%3A%2F%2Fcfile26.uf.tistory.com%2Fimage%2F99FD8D385BFBECE32D2149)"
   ]
  },
  {
   "cell_type": "markdown",
   "metadata": {},
   "source": [
    "**데이터 프레임 만들기**  \n",
    "데이터 프레임 또한 딕셔너리 형식으로 만든 후 데이터 프레임으로 변환하는 방식이 있습니다.  \n"
   ]
  },
  {
   "cell_type": "code",
   "execution_count": null,
   "metadata": {},
   "outputs": [],
   "source": [
    "\n",
    "#열이름을 key 로 하고 리스트를 value 로 갖는 딕셔너리 만들기 \n",
    "data = {'a0':[1,2,3], 'a1':[4,5,6], 'a2':[7,8,9],'a3':[10,11,12]}\n",
    "\n",
    "#판다스 데이터프레임으로 변환  \n",
    "df = pd.DataFrame(data)\n",
    "\n",
    "df"
   ]
  },
  {
   "cell_type": "markdown",
   "metadata": {},
   "source": [
    "***행 인덱스/열 이름 설정**  \n",
    " 2차원 배열을 DataFrame() 함수 인자로 전달하여 데이터 프레임으로 변환할 때 행 인덱스와 열 이름 속성을 사용자가 직접 지정할 수 있습니다.   \n",
    " > 인덱스에 '철수' '영희' 를 갖고   \n",
    " 열이름으로는 '나이','성별','학교' 배열을 갖는 데이터 프레임을 만들어 봅시다  "
   ]
  },
  {
   "cell_type": "code",
   "execution_count": null,
   "metadata": {},
   "outputs": [],
   "source": [
    "pd.DataFrame([[15,'남자','디지텍중'],[19,'여자','디지텍고']])"
   ]
  },
  {
   "cell_type": "code",
   "execution_count": null,
   "metadata": {},
   "outputs": [],
   "source": [
    "df = pd.DataFrame(index = ['철수','영희'],\n",
    "                 columns = ['나이','성별','학교'], \n",
    "                 data = [[15,'남자','디지텍중'],[19,'여자','디지텍고']])\n",
    "\n",
    "df"
   ]
  },
  {
   "cell_type": "code",
   "execution_count": null,
   "metadata": {},
   "outputs": [],
   "source": [
    "df.index"
   ]
  },
  {
   "cell_type": "code",
   "execution_count": null,
   "metadata": {},
   "outputs": [],
   "source": [
    "df.columns"
   ]
  },
  {
   "cell_type": "markdown",
   "metadata": {},
   "source": [
    "> 행 인덱스와 열 인덱스를 변경하는 법도 알아봅시다."
   ]
  },
  {
   "cell_type": "code",
   "execution_count": null,
   "metadata": {},
   "outputs": [],
   "source": [
    "df.index = ['재우','재순']\n",
    "df.columns =['age','gender','school']\n",
    "\n",
    "df"
   ]
  },
  {
   "cell_type": "markdown",
   "metadata": {},
   "source": [
    "> `rename()` 메서드를 이용하여 원본 객체를 변환하는 방법"
   ]
  },
  {
   "cell_type": "code",
   "execution_count": null,
   "metadata": {},
   "outputs": [],
   "source": [
    "df.rename( columns = {'age':'나이','gender':'성별','school':'학교'})\n",
    "\n",
    "df.rename( index = {'재우':'지형','재순':'지수'})\n",
    "\n",
    "df\n",
    "\n",
    "# 인덱스와 열 이름이 변하지 않았는데요 "
   ]
  },
  {
   "cell_type": "code",
   "execution_count": null,
   "metadata": {},
   "outputs": [],
   "source": [
    "df.rename( columns = {'age':'나이','sex':'성별','school':'학교'})"
   ]
  },
  {
   "cell_type": "code",
   "execution_count": null,
   "metadata": {},
   "outputs": [],
   "source": [
    "df"
   ]
  },
  {
   "cell_type": "code",
   "execution_count": null,
   "metadata": {},
   "outputs": [],
   "source": [
    "# 아래와 같이 inplace = True 를 설정해주어야 원본 객체가 변경 됩니다\n",
    "df.rename( columns = {'age':'나이','sex':'성별','school':'학교'},inplace=True)\n",
    "\n",
    "df.rename( index = {'재우':'지형','재순':'지수'}, inplace=True)\n",
    "\n",
    "df\n"
   ]
  },
  {
   "cell_type": "markdown",
   "metadata": {},
   "source": [
    "> 행/열 삭제  \n",
    "\n",
    "데이터 프레임의 행/ 열을 삭제하는 명령으로는 `drop()` 메서드가 있습니다.  \n",
    "행을 삭제할때는 축(axis) 옵션으로 `axis=0` 을 입력하거나 별도로 입력하지않습니다.  \n",
    "열을 삭제할때는 `axis=1`을 입력하면 열이 삭제됩니다."
   ]
  },
  {
   "cell_type": "code",
   "execution_count": null,
   "metadata": {},
   "outputs": [],
   "source": [
    "# DataFrame() 함수로 데이터프레임 변환. 변수 df에 저장 \n",
    "exam_data = {'수학' : [ 100, 80, 70], '영어' : [ 98, 69, 95],\n",
    "             '국어' : [ 80, 75, 100], '체육' : [ 80, 90, 90]}\n",
    "\n",
    "df = pd.DataFrame(exam_data, index=['재우', '지형', '성진'])\n",
    "print(df)\n",
    "print('\\n')\n",
    "\n",
    "df.drop('지형', inplace=True)\n",
    "print(df)\n",
    "print('\\n')\n",
    "\n",
    "df.drop(['재우', '성진'], inplace=True)\n",
    "print(df)"
   ]
  },
  {
   "cell_type": "code",
   "execution_count": null,
   "metadata": {
    "scrolled": true
   },
   "outputs": [],
   "source": [
    "# DataFrame() 함수로 데이터프레임 변환. 변수 df에 저장 \n",
    "exam_data = {'수학' : [ 90, 80, 70], '영어' : [ 98, 89, 95],\n",
    "             '국어' : [ 85, 95, 100], '체육' : [ 100, 90, 90]}\n",
    "\n",
    "df = pd.DataFrame(exam_data, index=['재우', '지형', '성진'])\n",
    "print(df)\n",
    "print('\\n')\n",
    "\n",
    "df.drop('수학', axis = 1, inplace=True)\n",
    "print(df)\n",
    "print('\\n')\n",
    "\n",
    "df.drop(['영어', '국어'], axis=1, inplace=True)\n",
    "print(df)"
   ]
  },
  {
   "cell_type": "markdown",
   "metadata": {},
   "source": [
    "> **데이터 프레임  `행`  선택하기**  \n",
    "데이터 프레임의 행 데이터를 선택하기 위해서는 `loc` 와 `iloc` 인덱서를 사용합니다.  \n",
    "인덱스 이름으로 행을 선택할 때에는 loc를 이용하고 , 위치로 인덱스를 사용할 때에는 iloc를 사용합니다.  \n",
    "![행선택0](https://dandyrilla.github.io/images/2017-08-12/fig3.png?gray)\n",
    "![행선택](https://dandyrilla.github.io/images/2017-08-12/fig8.png)"
   ]
  },
  {
   "cell_type": "markdown",
   "metadata": {},
   "source": [
    "**행 선택하기 실습**"
   ]
  },
  {
   "cell_type": "code",
   "execution_count": null,
   "metadata": {},
   "outputs": [],
   "source": [
    "exam_data = {'수학' : [ 90, 80, 70], '영어' : [ 98, 89, 95],\n",
    "             '국어' : [ 85, 95, 100], '체육' : [ 100, 90, 90]}\n",
    "\n",
    "df = pd.DataFrame(exam_data, index=['재우', '지형', '성진'])"
   ]
  },
  {
   "cell_type": "code",
   "execution_count": null,
   "metadata": {
    "scrolled": true
   },
   "outputs": [],
   "source": [
    "df"
   ]
  },
  {
   "cell_type": "markdown",
   "metadata": {},
   "source": [
    "**행선택하기**  \n",
    "`재우` 와 `지형`의 성적을 뽑아내 봅시다 \n"
   ]
  },
  {
   "cell_type": "code",
   "execution_count": null,
   "metadata": {
    "scrolled": true
   },
   "outputs": [],
   "source": [
    "#loc 사용\n",
    "df.loc[['재우','지형']]"
   ]
  },
  {
   "cell_type": "code",
   "execution_count": null,
   "metadata": {
    "scrolled": true
   },
   "outputs": [],
   "source": [
    "#iloc 사용\n",
    "df.iloc[[0,1]]"
   ]
  },
  {
   "cell_type": "markdown",
   "metadata": {},
   "source": [
    "**범위를 이용하여 행 뽑아내기**  \n",
    "` : ` 사용하여 범위 지정하기 "
   ]
  },
  {
   "cell_type": "code",
   "execution_count": null,
   "metadata": {},
   "outputs": [],
   "source": [
    "df.loc['재우':'성진'] # 이름으로 인덱싱 할경우 마지막 포함 \n",
    "## 재우 부터 성진 까지 행을 뽑아냅니다  \n",
    "### loc 를 이용할 때에는 마지막 까지 포함됩니다 "
   ]
  },
  {
   "cell_type": "code",
   "execution_count": null,
   "metadata": {},
   "outputs": [],
   "source": [
    "df.iloc[0:2] "
   ]
  },
  {
   "cell_type": "markdown",
   "metadata": {},
   "source": [
    "> #### 데이터 프레임 열 선택하기  \n",
    "열 데이터를 1개 선택할 때는 , 대괄호(`[]`) 안에 열 이름을 따옴표`''` 와 함께 입력하거나  \n",
    "도트`.`다음에 열 이름을 입력하는 두가지 방식을 사용합니다.  \n",
    "![0](https://dandyrilla.github.io/images/2017-08-12/fig1.png?gray)  "
   ]
  },
  {
   "cell_type": "markdown",
   "metadata": {},
   "source": [
    "**열 선택하기 실습**  "
   ]
  },
  {
   "cell_type": "code",
   "execution_count": null,
   "metadata": {
    "scrolled": true
   },
   "outputs": [],
   "source": [
    "df"
   ]
  },
  {
   "cell_type": "code",
   "execution_count": null,
   "metadata": {},
   "outputs": [],
   "source": [
    "df.loc['재우']"
   ]
  },
  {
   "cell_type": "code",
   "execution_count": null,
   "metadata": {},
   "outputs": [],
   "source": [
    "df['수학']"
   ]
  },
  {
   "cell_type": "code",
   "execution_count": null,
   "metadata": {
    "scrolled": true
   },
   "outputs": [],
   "source": [
    "df.수학"
   ]
  },
  {
   "cell_type": "code",
   "execution_count": null,
   "metadata": {
    "scrolled": true
   },
   "outputs": [],
   "source": [
    "df[['국어','영어']]"
   ]
  },
  {
   "cell_type": "markdown",
   "metadata": {},
   "source": [
    "***범위 슬라이싱 고급 활용***  \n",
    "loc 와 iloc 를 이용하여 원하는 부분을 자유자재로 가져와 사용해 봅시다  \n",
    "\n",
    "> df.loc[`행 좌표`,`열 좌표`]   \n",
    "  \n",
    "  \n",
    "> df.iloc[`행 좌표`,`열 좌표`] "
   ]
  },
  {
   "cell_type": "code",
   "execution_count": null,
   "metadata": {},
   "outputs": [],
   "source": [
    "df"
   ]
  },
  {
   "cell_type": "code",
   "execution_count": null,
   "metadata": {},
   "outputs": [],
   "source": [
    "df['수학']"
   ]
  },
  {
   "cell_type": "code",
   "execution_count": null,
   "metadata": {},
   "outputs": [],
   "source": [
    "df.loc['성진','수학']"
   ]
  },
  {
   "cell_type": "markdown",
   "metadata": {},
   "source": [
    "문제: 재우와 성진이의 영어와 국어점수 뽑아내기"
   ]
  },
  {
   "cell_type": "code",
   "execution_count": null,
   "metadata": {
    "collapsed": true,
    "jupyter": {
     "outputs_hidden": true
    },
    "scrolled": true
   },
   "outputs": [],
   "source": []
  },
  {
   "cell_type": "markdown",
   "metadata": {},
   "source": [
    "> #### 열과 행 추가하기 "
   ]
  },
  {
   "cell_type": "code",
   "execution_count": null,
   "metadata": {},
   "outputs": [],
   "source": [
    "df['수학']"
   ]
  },
  {
   "cell_type": "code",
   "execution_count": null,
   "metadata": {},
   "outputs": [],
   "source": [
    "# 열 추가 \n",
    "## 미술 과목의 성적을 추가 해봅시다\n",
    "## 재우:90  지형:100 성진:95\n",
    "\n",
    "df['미술'] = [90, 100, 95]\n",
    "\n",
    "df"
   ]
  },
  {
   "cell_type": "code",
   "execution_count": null,
   "metadata": {},
   "outputs": [],
   "source": [
    "# 행 추가 \n",
    "## 형선 친구의 성적을 추가해봅시다 \n",
    "## 수학;90  영어:95  국어;100  체육:95  미술:90\n",
    "\n",
    "df.loc['형선'] = [90, 95, 100, 95, 90]\n",
    "df"
   ]
  },
  {
   "cell_type": "markdown",
   "metadata": {},
   "source": [
    "> #### 원소 값 변경 하기"
   ]
  },
  {
   "cell_type": "code",
   "execution_count": null,
   "metadata": {},
   "outputs": [],
   "source": [
    "## 기존 성적 데이터 프레임\n",
    "df"
   ]
  },
  {
   "cell_type": "code",
   "execution_count": null,
   "metadata": {},
   "outputs": [],
   "source": [
    "# 데이터프레임 df의 특정 원소를 변경하는 방법: '재우'의 '체육' 점수\n",
    "df.iloc[0][3] = 80\n",
    "print(df)\n",
    "print('\\n')\n",
    "\n",
    "df.loc['재우']['체육'] = 90\n",
    "print(df)\n",
    "print('\\n')\n",
    "\n",
    "df.loc['재우', '체육'] = 100\n",
    "print(df)\n",
    "print('\\n')\n",
    "\n",
    "# 데이터프레임 df의 원소 여러 개를 변경하는 방법: '재우'의 '국어', '체육' 점수\n",
    "df.loc['재우', ['국어', '체육']] = 50\n",
    "print(df)\n",
    "print('\\n')\n",
    "\n",
    "df.loc['재우', ['국어', '체육']] = 100, 50\n",
    "print(df)"
   ]
  },
  {
   "cell_type": "markdown",
   "metadata": {
    "colab_type": "text",
    "id": "JYHb_Mf-2lnG",
    "toc-hr-collapsed": false
   },
   "source": [
    "## VI. 데이터 불러오기"
   ]
  },
  {
   "cell_type": "code",
   "execution_count": 1,
   "metadata": {
    "colab": {},
    "colab_type": "code",
    "id": "pb0OD3v82lnT"
   },
   "outputs": [],
   "source": [
    "import pandas as pd #판다스 패키지 불러오기\n",
    "import os"
   ]
  },
  {
   "cell_type": "markdown",
   "metadata": {
    "colab_type": "text",
    "id": "Ra_sr1UQK0MQ"
   },
   "source": [
    "### pd.read_csv()\n",
    " - csv파일 읽는 함수"
   ]
  },
  {
   "cell_type": "code",
   "execution_count": 6,
   "metadata": {},
   "outputs": [
    {
     "data": {
      "text/plain": [
       "['0.csv',\n",
       " '1.csv',\n",
       " '10.csv',\n",
       " '100.csv',\n",
       " '101.csv',\n",
       " '102.csv',\n",
       " '103.csv',\n",
       " '104.csv',\n",
       " '105.csv',\n",
       " '106.csv']"
      ]
     },
     "execution_count": 6,
     "metadata": {},
     "output_type": "execute_result"
    }
   ],
   "source": [
    "os.listdir('../train/')[:10]"
   ]
  },
  {
   "cell_type": "code",
   "execution_count": 5,
   "metadata": {},
   "outputs": [
    {
     "data": {
      "text/plain": [
       "['1000.csv',\n",
       " '1001.csv',\n",
       " '1002.csv',\n",
       " '1003.csv',\n",
       " '1004.csv',\n",
       " '1005.csv',\n",
       " '1006.csv',\n",
       " '1007.csv',\n",
       " '1008.csv',\n",
       " '1009.csv']"
      ]
     },
     "execution_count": 5,
     "metadata": {},
     "output_type": "execute_result"
    }
   ],
   "source": [
    "os.listdir('../test')[:10]"
   ]
  },
  {
   "cell_type": "code",
   "execution_count": 30,
   "metadata": {
    "colab": {},
    "colab_type": "code",
    "id": "ucB6aeAf6FPT"
   },
   "outputs": [
    {
     "data": {
      "text/html": [
       "<div>\n",
       "<style scoped>\n",
       "    .dataframe tbody tr th:only-of-type {\n",
       "        vertical-align: middle;\n",
       "    }\n",
       "\n",
       "    .dataframe tbody tr th {\n",
       "        vertical-align: top;\n",
       "    }\n",
       "\n",
       "    .dataframe thead th {\n",
       "        text-align: right;\n",
       "    }\n",
       "</style>\n",
       "<table border=\"1\" class=\"dataframe\">\n",
       "  <thead>\n",
       "    <tr style=\"text-align: right;\">\n",
       "      <th></th>\n",
       "      <th>id</th>\n",
       "      <th>label</th>\n",
       "    </tr>\n",
       "  </thead>\n",
       "  <tbody>\n",
       "    <tr>\n",
       "      <th>0</th>\n",
       "      <td>0</td>\n",
       "      <td>110</td>\n",
       "    </tr>\n",
       "    <tr>\n",
       "      <th>1</th>\n",
       "      <td>1</td>\n",
       "      <td>29</td>\n",
       "    </tr>\n",
       "    <tr>\n",
       "      <th>2</th>\n",
       "      <td>2</td>\n",
       "      <td>111</td>\n",
       "    </tr>\n",
       "    <tr>\n",
       "      <th>3</th>\n",
       "      <td>3</td>\n",
       "      <td>176</td>\n",
       "    </tr>\n",
       "    <tr>\n",
       "      <th>4</th>\n",
       "      <td>4</td>\n",
       "      <td>130</td>\n",
       "    </tr>\n",
       "  </tbody>\n",
       "</table>\n",
       "</div>"
      ],
      "text/plain": [
       "   id  label\n",
       "0   0    110\n",
       "1   1     29\n",
       "2   2    111\n",
       "3   3    176\n",
       "4   4    130"
      ]
     },
     "execution_count": 30,
     "metadata": {},
     "output_type": "execute_result"
    }
   ],
   "source": [
    " # 데이터 불러오기\n",
    "# 모델 학습 파일\n",
    "# 모델 시험지 파일\n",
    "#답안지 파일 \n",
    "train = pd.read_csv('../train/0.csv')\n",
    "train_label = pd.read_csv('../train_label.csv')\n",
    "test = pd.read_csv('../test/1000.csv')\n",
    "train_label.head()"
   ]
  },
  {
   "cell_type": "code",
   "execution_count": 16,
   "metadata": {
    "collapsed": true,
    "jupyter": {
     "outputs_hidden": true
    }
   },
   "outputs": [
    {
     "data": {
      "text/plain": [
       "<matplotlib.axes._subplots.AxesSubplot at 0x1eb86d24eb8>"
      ]
     },
     "execution_count": 16,
     "metadata": {},
     "output_type": "execute_result"
    },
    {
     "data": {
      "image/png": "[encoded data removed]",
      "text/plain": [
       "<Figure size 720x2160 with 1 Axes>"
      ]
     },
     "metadata": {
      "needs_background": "light"
     },
     "output_type": "display_data"
    }
   ],
   "source": [
    "train_label['label'].value_counts().sort_index().plot(kind = 'barh', figsize = (10, 30))"
   ]
  },
  {
   "cell_type": "markdown",
   "metadata": {
    "colab_type": "text",
    "id": "jwLtCHGC2lnb",
    "toc-hr-collapsed": false
   },
   "source": [
    "## VII. 탐색적 자료분석"
   ]
  },
  {
   "cell_type": "markdown",
   "metadata": {
    "colab_type": "text",
    "id": "0M8KM3tg6FPX"
   },
   "source": [
    "### pd.DataFrame.head()\n",
    " - 데이터 프레임의 위에서 부터 n개 행을 보여주는 함수\n",
    " - n의 기본 값(default 값)은 5"
   ]
  },
  {
   "cell_type": "code",
   "execution_count": 24,
   "metadata": {
    "colab": {},
    "colab_type": "code",
    "id": "tnr_vwVsWths"
   },
   "outputs": [
    {
     "data": {
      "text/html": [
       "<div>\n",
       "<style scoped>\n",
       "    .dataframe tbody tr th:only-of-type {\n",
       "        vertical-align: middle;\n",
       "    }\n",
       "\n",
       "    .dataframe tbody tr th {\n",
       "        vertical-align: top;\n",
       "    }\n",
       "\n",
       "    .dataframe thead th {\n",
       "        text-align: right;\n",
       "    }\n",
       "</style>\n",
       "<table border=\"1\" class=\"dataframe\">\n",
       "  <thead>\n",
       "    <tr style=\"text-align: right;\">\n",
       "      <th></th>\n",
       "      <th>time</th>\n",
       "      <th>V0000</th>\n",
       "      <th>V0001</th>\n",
       "      <th>V0002</th>\n",
       "      <th>V0003</th>\n",
       "      <th>V0004</th>\n",
       "      <th>V0005</th>\n",
       "      <th>V0006</th>\n",
       "      <th>V0007</th>\n",
       "      <th>V0008</th>\n",
       "      <th>...</th>\n",
       "      <th>V5111</th>\n",
       "      <th>V5112</th>\n",
       "      <th>V5113</th>\n",
       "      <th>V5114</th>\n",
       "      <th>V5115</th>\n",
       "      <th>V5116</th>\n",
       "      <th>V5117</th>\n",
       "      <th>V5118</th>\n",
       "      <th>V5119</th>\n",
       "      <th>V5120</th>\n",
       "    </tr>\n",
       "  </thead>\n",
       "  <tbody>\n",
       "    <tr>\n",
       "      <th>0</th>\n",
       "      <td>0</td>\n",
       "      <td>30.486806</td>\n",
       "      <td>8.682230</td>\n",
       "      <td>8.736399</td>\n",
       "      <td>8.691251</td>\n",
       "      <td>8.711798</td>\n",
       "      <td>204.576461</td>\n",
       "      <td>201.196818</td>\n",
       "      <td>-1.213967e-19</td>\n",
       "      <td>0.0</td>\n",
       "      <td>...</td>\n",
       "      <td>1.0</td>\n",
       "      <td>1.0</td>\n",
       "      <td>1.0</td>\n",
       "      <td>1.0</td>\n",
       "      <td>60.0</td>\n",
       "      <td>127.58</td>\n",
       "      <td>112.263</td>\n",
       "      <td>-0.264703</td>\n",
       "      <td>85.4</td>\n",
       "      <td>-0.004474</td>\n",
       "    </tr>\n",
       "    <tr>\n",
       "      <th>1</th>\n",
       "      <td>1</td>\n",
       "      <td>30.460030</td>\n",
       "      <td>8.784153</td>\n",
       "      <td>8.691244</td>\n",
       "      <td>8.706254</td>\n",
       "      <td>8.716143</td>\n",
       "      <td>194.222395</td>\n",
       "      <td>169.979333</td>\n",
       "      <td>-2.279681e-19</td>\n",
       "      <td>0.0</td>\n",
       "      <td>...</td>\n",
       "      <td>1.0</td>\n",
       "      <td>1.0</td>\n",
       "      <td>1.0</td>\n",
       "      <td>1.0</td>\n",
       "      <td>60.0</td>\n",
       "      <td>0.00</td>\n",
       "      <td>0.000</td>\n",
       "      <td>0.000014</td>\n",
       "      <td>85.4</td>\n",
       "      <td>0.000000</td>\n",
       "    </tr>\n",
       "    <tr>\n",
       "      <th>2</th>\n",
       "      <td>2</td>\n",
       "      <td>30.475103</td>\n",
       "      <td>8.812022</td>\n",
       "      <td>8.697733</td>\n",
       "      <td>8.721917</td>\n",
       "      <td>8.681361</td>\n",
       "      <td>193.078139</td>\n",
       "      <td>160.719360</td>\n",
       "      <td>-1.586760e-19</td>\n",
       "      <td>0.0</td>\n",
       "      <td>...</td>\n",
       "      <td>1.0</td>\n",
       "      <td>1.0</td>\n",
       "      <td>1.0</td>\n",
       "      <td>1.0</td>\n",
       "      <td>60.0</td>\n",
       "      <td>0.00</td>\n",
       "      <td>0.000</td>\n",
       "      <td>-0.000013</td>\n",
       "      <td>85.4</td>\n",
       "      <td>0.000000</td>\n",
       "    </tr>\n",
       "    <tr>\n",
       "      <th>3</th>\n",
       "      <td>3</td>\n",
       "      <td>30.455413</td>\n",
       "      <td>8.908323</td>\n",
       "      <td>8.712004</td>\n",
       "      <td>8.723829</td>\n",
       "      <td>8.724655</td>\n",
       "      <td>207.644178</td>\n",
       "      <td>232.675873</td>\n",
       "      <td>-4.016423e-19</td>\n",
       "      <td>0.0</td>\n",
       "      <td>...</td>\n",
       "      <td>1.0</td>\n",
       "      <td>1.0</td>\n",
       "      <td>1.0</td>\n",
       "      <td>1.0</td>\n",
       "      <td>60.0</td>\n",
       "      <td>0.00</td>\n",
       "      <td>0.000</td>\n",
       "      <td>0.000019</td>\n",
       "      <td>85.4</td>\n",
       "      <td>0.000000</td>\n",
       "    </tr>\n",
       "    <tr>\n",
       "      <th>4</th>\n",
       "      <td>4</td>\n",
       "      <td>30.472642</td>\n",
       "      <td>8.815620</td>\n",
       "      <td>8.702882</td>\n",
       "      <td>8.722939</td>\n",
       "      <td>8.702341</td>\n",
       "      <td>186.112451</td>\n",
       "      <td>160.829340</td>\n",
       "      <td>8.676680e-19</td>\n",
       "      <td>0.0</td>\n",
       "      <td>...</td>\n",
       "      <td>1.0</td>\n",
       "      <td>1.0</td>\n",
       "      <td>1.0</td>\n",
       "      <td>1.0</td>\n",
       "      <td>60.0</td>\n",
       "      <td>0.00</td>\n",
       "      <td>0.000</td>\n",
       "      <td>-0.000008</td>\n",
       "      <td>85.4</td>\n",
       "      <td>0.000000</td>\n",
       "    </tr>\n",
       "  </tbody>\n",
       "</table>\n",
       "<p>5 rows × 5122 columns</p>\n",
       "</div>"
      ],
      "text/plain": [
       "   time      V0000     V0001     V0002     V0003     V0004       V0005  \\\n",
       "0     0  30.486806  8.682230  8.736399  8.691251  8.711798  204.576461   \n",
       "1     1  30.460030  8.784153  8.691244  8.706254  8.716143  194.222395   \n",
       "2     2  30.475103  8.812022  8.697733  8.721917  8.681361  193.078139   \n",
       "3     3  30.455413  8.908323  8.712004  8.723829  8.724655  207.644178   \n",
       "4     4  30.472642  8.815620  8.702882  8.722939  8.702341  186.112451   \n",
       "\n",
       "        V0006         V0007  V0008  ...  V5111  V5112  V5113  V5114  V5115  \\\n",
       "0  201.196818 -1.213967e-19    0.0  ...    1.0    1.0    1.0    1.0   60.0   \n",
       "1  169.979333 -2.279681e-19    0.0  ...    1.0    1.0    1.0    1.0   60.0   \n",
       "2  160.719360 -1.586760e-19    0.0  ...    1.0    1.0    1.0    1.0   60.0   \n",
       "3  232.675873 -4.016423e-19    0.0  ...    1.0    1.0    1.0    1.0   60.0   \n",
       "4  160.829340  8.676680e-19    0.0  ...    1.0    1.0    1.0    1.0   60.0   \n",
       "\n",
       "    V5116    V5117     V5118  V5119     V5120  \n",
       "0  127.58  112.263 -0.264703   85.4 -0.004474  \n",
       "1    0.00    0.000  0.000014   85.4  0.000000  \n",
       "2    0.00    0.000 -0.000013   85.4  0.000000  \n",
       "3    0.00    0.000  0.000019   85.4  0.000000  \n",
       "4    0.00    0.000 -0.000008   85.4  0.000000  \n",
       "\n",
       "[5 rows x 5122 columns]"
      ]
     },
     "execution_count": 24,
     "metadata": {},
     "output_type": "execute_result"
    }
   ],
   "source": [
    "train.head()"
   ]
  },
  {
   "cell_type": "code",
   "execution_count": 22,
   "metadata": {},
   "outputs": [
    {
     "data": {
      "text/html": [
       "<div>\n",
       "<style scoped>\n",
       "    .dataframe tbody tr th:only-of-type {\n",
       "        vertical-align: middle;\n",
       "    }\n",
       "\n",
       "    .dataframe tbody tr th {\n",
       "        vertical-align: top;\n",
       "    }\n",
       "\n",
       "    .dataframe thead th {\n",
       "        text-align: right;\n",
       "    }\n",
       "</style>\n",
       "<table border=\"1\" class=\"dataframe\">\n",
       "  <thead>\n",
       "    <tr style=\"text-align: right;\">\n",
       "      <th></th>\n",
       "      <th>id</th>\n",
       "      <th>label</th>\n",
       "    </tr>\n",
       "  </thead>\n",
       "  <tbody>\n",
       "    <tr>\n",
       "      <th>0</th>\n",
       "      <td>0</td>\n",
       "      <td>110</td>\n",
       "    </tr>\n",
       "    <tr>\n",
       "      <th>1</th>\n",
       "      <td>1</td>\n",
       "      <td>29</td>\n",
       "    </tr>\n",
       "    <tr>\n",
       "      <th>2</th>\n",
       "      <td>2</td>\n",
       "      <td>111</td>\n",
       "    </tr>\n",
       "    <tr>\n",
       "      <th>3</th>\n",
       "      <td>3</td>\n",
       "      <td>176</td>\n",
       "    </tr>\n",
       "    <tr>\n",
       "      <th>4</th>\n",
       "      <td>4</td>\n",
       "      <td>130</td>\n",
       "    </tr>\n",
       "  </tbody>\n",
       "</table>\n",
       "</div>"
      ],
      "text/plain": [
       "   id  label\n",
       "0   0    110\n",
       "1   1     29\n",
       "2   2    111\n",
       "3   3    176\n",
       "4   4    130"
      ]
     },
     "execution_count": 22,
     "metadata": {},
     "output_type": "execute_result"
    }
   ],
   "source": [
    "train_label.head()"
   ]
  },
  {
   "cell_type": "markdown",
   "metadata": {
    "colab_type": "text",
    "id": "j6ZGMht9nnDD"
   },
   "source": [
    "- time : 시간 (초)\n",
    "- V0000 ~ V5120 : 발전소 운영 중 측정되는 변수\n",
    "- id : 파일 아이디\n",
    "- label : 상태_B에 해당하는 label 값"
   ]
  },
  {
   "cell_type": "markdown",
   "metadata": {
    "colab_type": "text",
    "id": "6gZnuuxI6FPk"
   },
   "source": [
    "### pd.DataFrame.tail()\n",
    " - 데이터 프레임의 아래에서 부터 n개 행을 보여주는 함수\n",
    " - n의 기본 값(default 값)은 5"
   ]
  },
  {
   "cell_type": "code",
   "execution_count": null,
   "metadata": {
    "colab": {},
    "colab_type": "code",
    "id": "JXVbDhivECuQ"
   },
   "outputs": [],
   "source": []
  },
  {
   "cell_type": "markdown",
   "metadata": {
    "colab_type": "text",
    "id": "IuXDOy8l6FPp"
   },
   "source": [
    "### pd.DataFrame.shape\n",
    " - 데이터 프레임의 행의 개수와 열의 개수가 저장되어 있는 속성(attribute)"
   ]
  },
  {
   "cell_type": "code",
   "execution_count": null,
   "metadata": {
    "colab": {},
    "colab_type": "code",
    "id": "XYzqIZFTEEAN"
   },
   "outputs": [],
   "source": []
  },
  {
   "cell_type": "markdown",
   "metadata": {},
   "source": [
    "### pd.DataFrame.columns\n",
    "- 데이터의 컬럼명이 저장 되어 있는 속성"
   ]
  },
  {
   "cell_type": "code",
   "execution_count": 32,
   "metadata": {},
   "outputs": [
    {
     "data": {
      "text/plain": [
       "Index(['time', 'V0000', 'V0001', 'V0002', 'V0003', 'V0004', 'V0005', 'V0006',\n",
       "       'V0007', 'V0008',\n",
       "       ...\n",
       "       'V5111', 'V5112', 'V5113', 'V5114', 'V5115', 'V5116', 'V5117', 'V5118',\n",
       "       'V5119', 'V5120'],\n",
       "      dtype='object', length=5122)"
      ]
     },
     "execution_count": 32,
     "metadata": {},
     "output_type": "execute_result"
    }
   ],
   "source": [
    "train.columns"
   ]
  },
  {
   "cell_type": "markdown",
   "metadata": {
    "colab_type": "text",
    "id": "pLhBuDW46FPw"
   },
   "source": [
    "### pd.DataFrame.info()\n",
    "- 데이터셋의 column별 정보를 알려주는 함수\n",
    "- 비어 있지 않은 값은 (non-null)은 몇개인지?\n",
    "- column의 type은 무엇인지?\n",
    " - type의 종류 : int(정수), float(실수), object(문자열), 등등 (date, ...)"
   ]
  },
  {
   "cell_type": "code",
   "execution_count": 27,
   "metadata": {
    "colab": {},
    "colab_type": "code",
    "id": "8WH4LQF3ua6A"
   },
   "outputs": [
    {
     "name": "stdout",
     "output_type": "stream",
     "text": [
      "<class 'pandas.core.frame.DataFrame'>\n",
      "RangeIndex: 600 entries, 0 to 599\n",
      "Columns: 5122 entries, time to V5120\n",
      "dtypes: float64(5121), int64(1)\n",
      "memory usage: 23.4 MB\n"
     ]
    }
   ],
   "source": [
    "train.info()"
   ]
  },
  {
   "cell_type": "markdown",
   "metadata": {
    "colab_type": "text",
    "id": "Pf07OcNy6FPz"
   },
   "source": [
    "### pd.DataFrame.describe()\n",
    "- 숫자형 (int, float) column들의 기술 통계량을 보여주는 함수\n",
    "\n",
    "- 기술통계량이란?\n",
    " - 해당 column을 대표할 수 있는 통계값들을 의미\n",
    " \n",
    " \n",
    "- 기술통계량 종류\n",
    " - count: 해당 column에서 비어 있지 않은 값의 개수\n",
    " - mean: 평균\n",
    " - std: 표준편차\n",
    " - min: 최솟값 (이상치 포함)\n",
    " - 25% (Q1): 전체 데이터를 순서대로 정렬했을 때, 아래에서 부터 1/4번째 지점에 있는 값\n",
    " - 50% (Q2): 중앙값 (전체 데이터를 순서대로 정렬했을 때, 아래에서 부터 2/4번째 지점에 있는 값)\n",
    " - 75% (Q3): 전체 데이터를 순서대로 정렬했을 때, 아래에서 부터 3/4번째 지점에 있는 값\n",
    " - max: 최댓값 (이상치 포함) \n",
    " \n",
    " \n",
    " \n",
    "- 이상치: 울타리 밖에 있는 부분을 이상치라고 정의함\n",
    "   - 아래쪽 울타리: $Q_1$ - $1.5 * IQR$\n",
    "   - 위쪽 울타리: $Q_3$ + $1.5 * IQR$\n",
    "   - $IQR$ = $Q_3 - Q_1$\n",
    " \n",
    " \n",
    "<img src=\"https://miro.medium.com/max/10125/1*NRlqiZGQdsIyAu0KzP7LaQ.png\" width=\"700\" height=\"700\">"
   ]
  },
  {
   "cell_type": "code",
   "execution_count": null,
   "metadata": {
    "colab": {},
    "colab_type": "code",
    "id": "4OZ8393MvrT6"
   },
   "outputs": [],
   "source": []
  },
  {
   "cell_type": "markdown",
   "metadata": {
    "colab_type": "text",
    "id": "jjLPGtmx6FP4"
   },
   "source": [
    "### pd.Series.value_counts()\n",
    " - series 내 고유값들 각각의 개수를 보여주는 함수\n",
    " - 가장 많이 나오는 고유값들 순서로 보여줍니다.\n",
    " - 비어 있는 값은 고려하지 않습니다."
   ]
  },
  {
   "cell_type": "code",
   "execution_count": null,
   "metadata": {
    "colab": {},
    "colab_type": "code",
    "id": "tP9Md2d77AV9"
   },
   "outputs": [],
   "source": []
  },
  {
   "cell_type": "markdown",
   "metadata": {
    "colab_type": "text",
    "id": "hWxzks6K6FP_"
   },
   "source": [
    "### pd.Series.unique()\n",
    "- 해당 series의 고유값들만 보여주는 함수\n",
    "- [1, 1, 1, 3] 이라는 시리즈가 있다면, unique() 함수 적용시 [1, 3]이 출력됩니다.\n",
    "- nan 값이 있을시 nan값도 포함하여 출력한다 (Not a Number)\n",
    "- 출현하는 순서대로 나오기 때문에, 알파벳 순서 또는 오름차순으로 정렬되어 있지 않습니다."
   ]
  },
  {
   "cell_type": "code",
   "execution_count": null,
   "metadata": {
    "colab": {},
    "colab_type": "code",
    "id": "psoOzQ846FQA"
   },
   "outputs": [],
   "source": []
  },
  {
   "cell_type": "markdown",
   "metadata": {
    "colab_type": "text",
    "id": "OtixkUitL_Ov"
   },
   "source": [
    "### pd.DataFrame.groupby()\n",
    " - 집단에 대한 통계량 확인 \n",
    " \n",
    "<img src=\"https://s3.amazonaws.com/files.dezyre.com/images/Tutorials/Split+Apply+Combine+Strategy.png\" width=\"700\" height=\"500\">"
   ]
  },
  {
   "cell_type": "code",
   "execution_count": null,
   "metadata": {
    "colab": {},
    "colab_type": "code",
    "id": "voJRpw7lOurA"
   },
   "outputs": [],
   "source": []
  },
  {
   "cell_type": "markdown",
   "metadata": {
    "colab_type": "text",
    "id": "ryrWKTm56FQD"
   },
   "source": [
    "### pd.Series.plot(kind = \"bar\")\n",
    "- 막대 그래프\n",
    "- index 값이 x축, value값이 y축으로 대응 됩니다. \n",
    "- value_counts()의 결과물을 보여줄 때 유용합니다. \n",
    "- groupby된 결과물을 보여줄 때 유용합니다. "
   ]
  },
  {
   "cell_type": "code",
   "execution_count": null,
   "metadata": {
    "colab": {},
    "colab_type": "code",
    "id": "_c0F7QHW34Tw"
   },
   "outputs": [],
   "source": []
  },
  {
   "cell_type": "markdown",
   "metadata": {
    "colab_type": "text",
    "id": "3ZU4Z1Dy6FQf"
   },
   "source": [
    "### pd.Series.plot(kind = 'hist')\n",
    "- 히스토그램: 구간별로 속해있는 row의 개수를 시각화 합니다.\n",
    "- 수치형에서만 가능, 범주는 안됩니다!\n",
    "\n",
    "<img src=\"http://www.statisticslectures.com/images/continuoushistogram.gif\" width=\"700\" height=\"300\">"
   ]
  },
  {
   "cell_type": "code",
   "execution_count": null,
   "metadata": {
    "colab": {},
    "colab_type": "code",
    "id": "YMAR933qeXki"
   },
   "outputs": [],
   "source": []
  },
  {
   "cell_type": "markdown",
   "metadata": {
    "colab_type": "text",
    "id": "Xw1eF2In6FQj"
   },
   "source": [
    "- 보조선은 grid = True를 통해 추가 할 수 있습니다. "
   ]
  },
  {
   "cell_type": "code",
   "execution_count": null,
   "metadata": {
    "colab": {},
    "colab_type": "code",
    "id": "wPaL_8xkhkPx"
   },
   "outputs": [],
   "source": []
  },
  {
   "cell_type": "markdown",
   "metadata": {
    "colab_type": "text",
    "id": "sKTKc1zN2YVi"
   },
   "source": [
    "### pd.DataFrame.plot(x, y, kind = 'scatter')\n",
    "- 산점도: 두 변수간의 관계를 시각화"
   ]
  },
  {
   "cell_type": "code",
   "execution_count": null,
   "metadata": {},
   "outputs": [],
   "source": []
  },
  {
   "cell_type": "markdown",
   "metadata": {},
   "source": [
    "### pd.DataFrame.boxplot(by , column)\n",
    "- 박스플롯"
   ]
  },
  {
   "cell_type": "code",
   "execution_count": 16,
   "metadata": {},
   "outputs": [
    {
     "data": {
      "text/plain": [
       "<matplotlib.axes._subplots.AxesSubplot at 0x267bf8fc5c0>"
      ]
     },
     "execution_count": 16,
     "metadata": {},
     "output_type": "execute_result"
    },
    {
     "data": {
      "image/png": "[encoded data removed]",
      "text/plain": [
       "<Figure size 432x288 with 1 Axes>"
      ]
     },
     "metadata": {
      "needs_background": "light"
     },
     "output_type": "display_data"
    }
   ],
   "source": [
    "train.boxplot(by = 'time', column = 'V0000')"
   ]
  },
  {
   "cell_type": "code",
   "execution_count": 1,
   "metadata": {},
   "outputs": [],
   "source": [
    "import os\n",
    "import pandas as pd \n",
    "import numpy as np\n",
    "import multiprocessing # 여러 개의 일꾼 (cpu)들에게 작업을 분산시키는 역할\n",
    "from multiprocessing import Pool \n",
    "from functools import partial # 함수가 받는 인자들 중 몇개를 고정 시켜서 새롭게 파생된 함수를 형성하는 역할\n",
    "from data_loader_v2 import data_loader_v2 # 자체적으로 만든 data loader version 2.0 ([데이콘 15회 대회] 데이터 설명 및 데이터 불러오기 영상 참조)\n",
    "from tqdm import tqdm\n",
    "\n",
    "from sklearn.ensemble import RandomForestClassifier"
   ]
  },
  {
   "cell_type": "code",
   "execution_count": 22,
   "metadata": {},
   "outputs": [],
   "source": [
    "train_folder = '../train/'\n",
    "test_folder = '../test/'\n",
    "train_label_path = '../train_label.csv'\n",
    "\n",
    "train_list = os.listdir(train_folder)[:5]\n",
    "test_list = os.listdir(test_folder)\n",
    "train_label = pd.read_csv(train_label_path, index_col=0)"
   ]
  },
  {
   "cell_type": "code",
   "execution_count": 23,
   "metadata": {},
   "outputs": [],
   "source": [
    "# 모든 csv 파일의 상태_B로 변화는 시점이 같다라고 가정\n",
    "# 하지만, 개별 csv파일의 상태_B로 변화는 시점은 상이할 수 있음\n",
    "def data_loader_all_v2(func, files, folder='', train_label=None, event_time=10, nrows=60):   \n",
    "    func_fixed = partial(func, folder=folder, train_label=train_label, event_time=event_time, nrows=nrows)     \n",
    "    if __name__ == '__main__':\n",
    "        pool = Pool(processes=multiprocessing.cpu_count()) \n",
    "        df_list = list(tqdm(pool.imap(func_fixed, files), total = len(files)))\n",
    "        pool.close()\n",
    "        pool.join()       \n",
    "    combined_df = pd.concat(df_list)    \n",
    "    return combined_df"
   ]
  },
  {
   "cell_type": "code",
   "execution_count": 28,
   "metadata": {
    "collapsed": true,
    "jupyter": {
     "outputs_hidden": true
    }
   },
   "outputs": [
    {
     "name": "stderr",
     "output_type": "stream",
     "text": [
      "\n",
      "\n",
      "\n",
      "  0%|                                                                                            | 0/5 [00:00<?, ?it/s]\u001b[A\u001b[A\u001b[A\n",
      "\n",
      "\n",
      "100%|████████████████████████████████████████████████████████████████████████████████████| 5/5 [00:02<00:00,  1.94it/s]\u001b[A\u001b[A\u001b[A\n"
     ]
    }
   ],
   "source": [
    "train = data_loader_all_v2(data_loader_v2, train_list, folder=train_folder, train_label=train_label, event_time=10, nrows=20)\n"
   ]
  },
  {
   "cell_type": "code",
   "execution_count": null,
   "metadata": {},
   "outputs": [],
   "source": []
  }
 ],
 "metadata": {
  "kernelspec": {
   "display_name": "Python 3",
   "language": "python",
   "name": "python3"
  },
  "language_info": {
   "codemirror_mode": {
    "name": "ipython",
    "version": 3
   },
   "file_extension": ".py",
   "mimetype": "text/x-python",
   "name": "python",
   "nbconvert_exporter": "python",
   "pygments_lexer": "ipython3",
   "version": "3.7.3"
  }
 },
 "nbformat": 4,
 "nbformat_minor": 4
}
